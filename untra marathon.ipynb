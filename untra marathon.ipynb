{
 "cells": [
  {
   "cell_type": "code",
   "execution_count": 410,
   "id": "df6de929-76a9-47cc-b075-c530e7c931c8",
   "metadata": {},
   "outputs": [],
   "source": [
    "# https://www.kaggle.com/datasets/aiaiaidavid/the-big-dataset-of-ultra-marathon-running/discussion/420633"
   ]
  },
  {
   "cell_type": "code",
   "execution_count": 412,
   "id": "7fbd4697-ab78-4fc8-ae58-41ad33a58b15",
   "metadata": {},
   "outputs": [],
   "source": [
    "# import libraries"
   ]
  },
  {
   "cell_type": "code",
   "execution_count": 413,
   "id": "4c09237f-c28d-4a46-9391-0441e91b6b28",
   "metadata": {},
   "outputs": [],
   "source": [
    "import pandas as pd\n",
    "import numpy as np\n",
    "import seaborn as sns\n",
    "import re\n",
    "import matplotlib.pyplot as plt"
   ]
  },
  {
   "cell_type": "code",
   "execution_count": 414,
   "id": "f5eb1825-eed2-4c03-badb-55302af231e6",
   "metadata": {},
   "outputs": [
    {
     "name": "stderr",
     "output_type": "stream",
     "text": [
      "C:\\Users\\annas\\AppData\\Local\\Temp\\ipykernel_2116\\3092615535.py:1: DtypeWarning: Columns (11) have mixed types. Specify dtype option on import or set low_memory=False.\n",
      "  df = pd.read_csv('runners.csv')\n"
     ]
    }
   ],
   "source": [
    "df = pd.read_csv('runners.csv')"
   ]
  },
  {
   "cell_type": "code",
   "execution_count": 415,
   "id": "a4608df3-ec1d-4b35-b6db-4e86ccc7c72c",
   "metadata": {},
   "outputs": [],
   "source": [
    "#see the data that has been imported"
   ]
  },
  {
   "cell_type": "code",
   "execution_count": 416,
   "id": "9009e534-3891-4b21-a103-ba4a96c92ca1",
   "metadata": {},
   "outputs": [
    {
     "data": {
      "text/html": [
       "<div>\n",
       "<style scoped>\n",
       "    .dataframe tbody tr th:only-of-type {\n",
       "        vertical-align: middle;\n",
       "    }\n",
       "\n",
       "    .dataframe tbody tr th {\n",
       "        vertical-align: top;\n",
       "    }\n",
       "\n",
       "    .dataframe thead th {\n",
       "        text-align: right;\n",
       "    }\n",
       "</style>\n",
       "<table border=\"1\" class=\"dataframe\">\n",
       "  <thead>\n",
       "    <tr style=\"text-align: right;\">\n",
       "      <th></th>\n",
       "      <th>Year of event</th>\n",
       "      <th>Event dates</th>\n",
       "      <th>Event name</th>\n",
       "      <th>Event distance/length</th>\n",
       "      <th>Event number of finishers</th>\n",
       "      <th>Athlete performance</th>\n",
       "      <th>Athlete club</th>\n",
       "      <th>Athlete country</th>\n",
       "      <th>Athlete year of birth</th>\n",
       "      <th>Athlete gender</th>\n",
       "      <th>Athlete age category</th>\n",
       "      <th>Athlete average speed</th>\n",
       "      <th>Athlete ID</th>\n",
       "    </tr>\n",
       "  </thead>\n",
       "  <tbody>\n",
       "    <tr>\n",
       "      <th>0</th>\n",
       "      <td>2018</td>\n",
       "      <td>06.01.2018</td>\n",
       "      <td>Selva Costera (CHI)</td>\n",
       "      <td>50km</td>\n",
       "      <td>22</td>\n",
       "      <td>4:51:39 h</td>\n",
       "      <td>Tnfrc</td>\n",
       "      <td>CHI</td>\n",
       "      <td>1978.0</td>\n",
       "      <td>M</td>\n",
       "      <td>M35</td>\n",
       "      <td>10.286</td>\n",
       "      <td>0</td>\n",
       "    </tr>\n",
       "    <tr>\n",
       "      <th>1</th>\n",
       "      <td>2018</td>\n",
       "      <td>06.01.2018</td>\n",
       "      <td>Selva Costera (CHI)</td>\n",
       "      <td>50km</td>\n",
       "      <td>22</td>\n",
       "      <td>5:15:45 h</td>\n",
       "      <td>Roberto Echeverría</td>\n",
       "      <td>CHI</td>\n",
       "      <td>1981.0</td>\n",
       "      <td>M</td>\n",
       "      <td>M35</td>\n",
       "      <td>9.501</td>\n",
       "      <td>1</td>\n",
       "    </tr>\n",
       "    <tr>\n",
       "      <th>2</th>\n",
       "      <td>2018</td>\n",
       "      <td>06.01.2018</td>\n",
       "      <td>Selva Costera (CHI)</td>\n",
       "      <td>50km</td>\n",
       "      <td>22</td>\n",
       "      <td>5:16:44 h</td>\n",
       "      <td>Puro Trail Osorno</td>\n",
       "      <td>CHI</td>\n",
       "      <td>1987.0</td>\n",
       "      <td>M</td>\n",
       "      <td>M23</td>\n",
       "      <td>9.472</td>\n",
       "      <td>2</td>\n",
       "    </tr>\n",
       "    <tr>\n",
       "      <th>3</th>\n",
       "      <td>2018</td>\n",
       "      <td>06.01.2018</td>\n",
       "      <td>Selva Costera (CHI)</td>\n",
       "      <td>50km</td>\n",
       "      <td>22</td>\n",
       "      <td>5:34:13 h</td>\n",
       "      <td>Columbia</td>\n",
       "      <td>ARG</td>\n",
       "      <td>1976.0</td>\n",
       "      <td>M</td>\n",
       "      <td>M40</td>\n",
       "      <td>8.976</td>\n",
       "      <td>3</td>\n",
       "    </tr>\n",
       "    <tr>\n",
       "      <th>4</th>\n",
       "      <td>2018</td>\n",
       "      <td>06.01.2018</td>\n",
       "      <td>Selva Costera (CHI)</td>\n",
       "      <td>50km</td>\n",
       "      <td>22</td>\n",
       "      <td>5:54:14 h</td>\n",
       "      <td>Baguales Trail</td>\n",
       "      <td>CHI</td>\n",
       "      <td>1992.0</td>\n",
       "      <td>M</td>\n",
       "      <td>M23</td>\n",
       "      <td>8.469</td>\n",
       "      <td>4</td>\n",
       "    </tr>\n",
       "  </tbody>\n",
       "</table>\n",
       "</div>"
      ],
      "text/plain": [
       "   Year of event Event dates           Event name Event distance/length  \\\n",
       "0           2018  06.01.2018  Selva Costera (CHI)                  50km   \n",
       "1           2018  06.01.2018  Selva Costera (CHI)                  50km   \n",
       "2           2018  06.01.2018  Selva Costera (CHI)                  50km   \n",
       "3           2018  06.01.2018  Selva Costera (CHI)                  50km   \n",
       "4           2018  06.01.2018  Selva Costera (CHI)                  50km   \n",
       "\n",
       "   Event number of finishers Athlete performance        Athlete club  \\\n",
       "0                         22           4:51:39 h               Tnfrc   \n",
       "1                         22           5:15:45 h  Roberto Echeverría   \n",
       "2                         22           5:16:44 h   Puro Trail Osorno   \n",
       "3                         22           5:34:13 h            Columbia   \n",
       "4                         22           5:54:14 h      Baguales Trail   \n",
       "\n",
       "  Athlete country  Athlete year of birth Athlete gender Athlete age category  \\\n",
       "0             CHI                 1978.0              M                  M35   \n",
       "1             CHI                 1981.0              M                  M35   \n",
       "2             CHI                 1987.0              M                  M23   \n",
       "3             ARG                 1976.0              M                  M40   \n",
       "4             CHI                 1992.0              M                  M23   \n",
       "\n",
       "  Athlete average speed  Athlete ID  \n",
       "0                10.286           0  \n",
       "1                 9.501           1  \n",
       "2                 9.472           2  \n",
       "3                 8.976           3  \n",
       "4                 8.469           4  "
      ]
     },
     "execution_count": 416,
     "metadata": {},
     "output_type": "execute_result"
    }
   ],
   "source": [
    "df.head()"
   ]
  },
  {
   "cell_type": "code",
   "execution_count": 417,
   "id": "14d37416-f016-4e6f-adda-76f77ade18eb",
   "metadata": {},
   "outputs": [
    {
     "name": "stdout",
     "output_type": "stream",
     "text": [
      "<class 'pandas.core.frame.DataFrame'>\n",
      "RangeIndex: 7461195 entries, 0 to 7461194\n",
      "Data columns (total 13 columns):\n",
      " #   Column                     Dtype  \n",
      "---  ------                     -----  \n",
      " 0   Year of event              int64  \n",
      " 1   Event dates                object \n",
      " 2   Event name                 object \n",
      " 3   Event distance/length      object \n",
      " 4   Event number of finishers  int64  \n",
      " 5   Athlete performance        object \n",
      " 6   Athlete club               object \n",
      " 7   Athlete country            object \n",
      " 8   Athlete year of birth      float64\n",
      " 9   Athlete gender             object \n",
      " 10  Athlete age category       object \n",
      " 11  Athlete average speed      object \n",
      " 12  Athlete ID                 int64  \n",
      "dtypes: float64(1), int64(3), object(9)\n",
      "memory usage: 740.0+ MB\n"
     ]
    }
   ],
   "source": [
    "df.info()"
   ]
  },
  {
   "cell_type": "code",
   "execution_count": 418,
   "id": "51f12627-ed7e-4a2c-b4ca-3f1db3d2f488",
   "metadata": {},
   "outputs": [
    {
     "data": {
      "text/plain": [
       "(7461195, 13)"
      ]
     },
     "execution_count": 418,
     "metadata": {},
     "output_type": "execute_result"
    }
   ],
   "source": [
    "df.shape"
   ]
  },
  {
   "cell_type": "code",
   "execution_count": 419,
   "id": "13820d76-2244-4a39-a3e1-bbd20651af18",
   "metadata": {},
   "outputs": [],
   "source": [
    "#clean up data"
   ]
  },
  {
   "cell_type": "code",
   "execution_count": 420,
   "id": "a25f7f27-f8ab-4a25-a70e-876695b1c5cc",
   "metadata": {},
   "outputs": [],
   "source": [
    "#Only want Lithuanian Races"
   ]
  },
  {
   "cell_type": "code",
   "execution_count": 421,
   "id": "016faee8-cc6d-4994-8024-cb86dc56d5f2",
   "metadata": {},
   "outputs": [],
   "source": [
    "# Step 1 extract country data from column \"Event name\" into a new column \"location\"\n",
    "df['location'] = df['Event name'].str.split('(').str[1].str.rstrip(')')"
   ]
  },
  {
   "cell_type": "code",
   "execution_count": 422,
   "id": "56b7292b-265f-4519-8b4f-62d4c832387c",
   "metadata": {},
   "outputs": [],
   "source": [
    "# Step 2 show only LTU races\n",
    "df = df[df['location'] == 'LTU']"
   ]
  },
  {
   "cell_type": "code",
   "execution_count": 423,
   "id": "7dfde483-b838-4ea0-ba1e-8cf6a9d1a28a",
   "metadata": {},
   "outputs": [
    {
     "data": {
      "text/plain": [
       "array(['6h', '82km', '100km', '65.8km', '83.7km', '50km', '47.4km',\n",
       "       '67.9km', '47.6km', '70.7km', '21h', '101km'], dtype=object)"
      ]
     },
     "execution_count": 423,
     "metadata": {},
     "output_type": "execute_result"
    }
   ],
   "source": [
    "# Check what length/distance races took place\n",
    "df['Event distance/length'].unique()"
   ]
  },
  {
   "cell_type": "code",
   "execution_count": 424,
   "id": "2fca5921-3bb5-4b1e-955f-43fc1f465ff5",
   "metadata": {},
   "outputs": [],
   "source": [
    "# Filter rows that contain 'km' and exclude rows with 'h'\n",
    "df = df[df['Event distance/length'].str.contains('km', na=False)]"
   ]
  },
  {
   "cell_type": "code",
   "execution_count": 425,
   "id": "4b4c0928-9fa1-4476-bb31-2bcf6ed04380",
   "metadata": {},
   "outputs": [],
   "source": [
    "# Rename column Event distance/length to distance\n",
    "df = df.rename(columns={'Event distance/length': 'distance'})"
   ]
  },
  {
   "cell_type": "code",
   "execution_count": 426,
   "id": "9a77b72d-8ef2-4b3f-b230-e325f3ecd69a",
   "metadata": {},
   "outputs": [],
   "source": [
    "# Remove null values from 'Athlete year of birth' column\n",
    "df = df.dropna(subset=['Athlete year of birth'])"
   ]
  },
  {
   "cell_type": "code",
   "execution_count": 427,
   "id": "09feee23-84e2-4fc2-acee-ba00dd027058",
   "metadata": {},
   "outputs": [],
   "source": [
    "# Remove LTU from event name\n",
    "df['Event name'] = df['Event name'].str.split('(').str.get(0)"
   ]
  },
  {
   "cell_type": "code",
   "execution_count": 428,
   "id": "7fdd7a9a-ba1d-4e5f-af8e-44a2a8f00bde",
   "metadata": {},
   "outputs": [],
   "source": [
    "# Convert 'Event dates' column to datetime format\n",
    "df['Event dates'] = pd.to_datetime(df['Event dates'], format='%d.%m.%Y')"
   ]
  },
  {
   "cell_type": "code",
   "execution_count": 429,
   "id": "4f12be31-a42f-4e38-99d8-b9cb14f646f4",
   "metadata": {},
   "outputs": [],
   "source": [
    "# Convert 'Athlete year of birth' to numeric\n",
    "df['Athlete year of birth'] = pd.to_numeric(df['Athlete year of birth'], errors='coerce')"
   ]
  },
  {
   "cell_type": "code",
   "execution_count": 430,
   "id": "99107f63-982d-4e16-9449-cfa3c28bdaf6",
   "metadata": {},
   "outputs": [],
   "source": [
    "# Determine athlete age\n",
    "df['athlete_age'] = df['Year of event'] - df['Athlete year of birth']"
   ]
  },
  {
   "cell_type": "code",
   "execution_count": 431,
   "id": "d026aeaa-ab11-45d9-baad-85aa906bc49d",
   "metadata": {},
   "outputs": [],
   "source": [
    "#Clean up athlete age\n",
    "df['athlete_age'] = df['Year of event'] - df['Athlete year of birth'].astype(int)"
   ]
  },
  {
   "cell_type": "code",
   "execution_count": 432,
   "id": "113b687a-4871-4d61-b32e-5b010dbc2620",
   "metadata": {},
   "outputs": [],
   "source": [
    "#Remove h from Athlete performance\n",
    "df['Athlete performance'] = df['Athlete performance'].str.split(' ').str.get(0)"
   ]
  },
  {
   "cell_type": "code",
   "execution_count": 433,
   "id": "78c35e56-2283-4e85-91f0-57aea03edfa5",
   "metadata": {},
   "outputs": [],
   "source": [
    "#Drop columns: Athlete Club, Athlete year of birth, Athlete age category, location\n",
    "df = df.drop(['Athlete club', 'Athlete year of birth', 'Athlete age category', 'location'], axis = 1)"
   ]
  },
  {
   "cell_type": "code",
   "execution_count": 434,
   "id": "ce2e5d38-18ff-44e6-afcf-5db4315466d1",
   "metadata": {},
   "outputs": [
    {
     "data": {
      "text/plain": [
       "Year of event                0\n",
       "Event dates                  0\n",
       "Event name                   0\n",
       "distance                     0\n",
       "Event number of finishers    0\n",
       "Athlete performance          0\n",
       "Athlete country              0\n",
       "Athlete gender               0\n",
       "Athlete average speed        0\n",
       "Athlete ID                   0\n",
       "athlete_age                  0\n",
       "dtype: int64"
      ]
     },
     "execution_count": 434,
     "metadata": {},
     "output_type": "execute_result"
    }
   ],
   "source": [
    "#Check for null values\n",
    "df.isna().sum()"
   ]
  },
  {
   "cell_type": "code",
   "execution_count": 435,
   "id": "2eb01d94-c6f1-4b08-a659-7202dacd523c",
   "metadata": {},
   "outputs": [
    {
     "data": {
      "text/html": [
       "<div>\n",
       "<style scoped>\n",
       "    .dataframe tbody tr th:only-of-type {\n",
       "        vertical-align: middle;\n",
       "    }\n",
       "\n",
       "    .dataframe tbody tr th {\n",
       "        vertical-align: top;\n",
       "    }\n",
       "\n",
       "    .dataframe thead th {\n",
       "        text-align: right;\n",
       "    }\n",
       "</style>\n",
       "<table border=\"1\" class=\"dataframe\">\n",
       "  <thead>\n",
       "    <tr style=\"text-align: right;\">\n",
       "      <th></th>\n",
       "      <th>Year of event</th>\n",
       "      <th>Event dates</th>\n",
       "      <th>Event name</th>\n",
       "      <th>distance</th>\n",
       "      <th>Event number of finishers</th>\n",
       "      <th>Athlete performance</th>\n",
       "      <th>Athlete country</th>\n",
       "      <th>Athlete gender</th>\n",
       "      <th>Athlete average speed</th>\n",
       "      <th>Athlete ID</th>\n",
       "      <th>athlete_age</th>\n",
       "    </tr>\n",
       "  </thead>\n",
       "  <tbody>\n",
       "  </tbody>\n",
       "</table>\n",
       "</div>"
      ],
      "text/plain": [
       "Empty DataFrame\n",
       "Columns: [Year of event, Event dates, Event name, distance, Event number of finishers, Athlete performance, Athlete country, Athlete gender, Athlete average speed, Athlete ID, athlete_age]\n",
       "Index: []"
      ]
     },
     "execution_count": 435,
     "metadata": {},
     "output_type": "execute_result"
    }
   ],
   "source": [
    "#Check for dupes\n",
    "df[df.duplicated() == True]"
   ]
  },
  {
   "cell_type": "code",
   "execution_count": 436,
   "id": "928732ce-6d7d-4fb6-8490-be93c69ccc32",
   "metadata": {},
   "outputs": [],
   "source": [
    "#Reset index\n",
    "df = df.reset_index(drop = True)"
   ]
  },
  {
   "cell_type": "code",
   "execution_count": 437,
   "id": "5d64aa45-d5b2-421d-a78f-e67b9b2b2f0b",
   "metadata": {},
   "outputs": [],
   "source": [
    "#Fix types"
   ]
  },
  {
   "cell_type": "code",
   "execution_count": 438,
   "id": "2d8c4482-5f1b-46fb-a1be-7948c89e62d6",
   "metadata": {},
   "outputs": [
    {
     "data": {
      "text/plain": [
       "Year of event                         int64\n",
       "Event dates                  datetime64[ns]\n",
       "Event name                           object\n",
       "distance                             object\n",
       "Event number of finishers             int64\n",
       "Athlete performance                  object\n",
       "Athlete country                      object\n",
       "Athlete gender                       object\n",
       "Athlete average speed                object\n",
       "Athlete ID                            int64\n",
       "athlete_age                           int64\n",
       "dtype: object"
      ]
     },
     "execution_count": 438,
     "metadata": {},
     "output_type": "execute_result"
    }
   ],
   "source": [
    "df.dtypes"
   ]
  },
  {
   "cell_type": "code",
   "execution_count": 439,
   "id": "001e010a-256b-4c0b-8efe-6a3bb5a23dba",
   "metadata": {},
   "outputs": [],
   "source": [
    "df['athlete_age'] = df['athlete_age'].astype(int)"
   ]
  },
  {
   "cell_type": "code",
   "execution_count": 440,
   "id": "7c4264c1-b4bc-4499-8f7c-b88485120760",
   "metadata": {},
   "outputs": [],
   "source": [
    "df['Athlete average speed'] = df['Athlete average speed'].astype(float)"
   ]
  },
  {
   "cell_type": "code",
   "execution_count": 441,
   "id": "0f391c2c-25f9-43f8-bade-c1637a4ce731",
   "metadata": {},
   "outputs": [],
   "source": [
    "#Remove 'km' suffix in distance column and convert to string\n",
    "df['distance'] = df['distance'].str.replace('km', '').astype(float)"
   ]
  },
  {
   "cell_type": "code",
   "execution_count": 442,
   "id": "98ab364f-f658-424e-a649-992a166f5a25",
   "metadata": {},
   "outputs": [],
   "source": [
    "# Round up the values in the 'distance' column\n",
    "df['distance'] = np.ceil(df['distance'])"
   ]
  },
  {
   "cell_type": "code",
   "execution_count": 443,
   "id": "e468ded8-5903-464e-8d8e-19bbaffaf7b0",
   "metadata": {},
   "outputs": [],
   "source": [
    "#Rename columns\n",
    "df = df.rename(columns= {'Year of event' : 'year',\n",
    "                         'Event dates' : 'race_day',\n",
    "                         'Event name' : 'race_name',\n",
    "                         'Event number of finishers' : 'race_number_of_finishers',\n",
    "                         'Athlete performance' : 'athlete_performance',\n",
    "                         'Athlete country' : 'athlete_country',\n",
    "                         'Athlete gender' : 'gender',\n",
    "                         'Athlete average speed' : 'average_speed',\n",
    "                         'Athlete ID' : 'athlete_id',\n",
    "                         'athlete_age' : 'age',\n",
    "                        })"
   ]
  },
  {
   "cell_type": "code",
   "execution_count": 444,
   "id": "a6bcf105-1134-431f-a0ff-dc0fc5908431",
   "metadata": {},
   "outputs": [],
   "source": [
    "#Reorder columns\n",
    "df = df[['year', 'race_day', 'race_name', 'distance', 'athlete_performance', 'athlete_country', 'gender', 'average_speed', 'age', 'race_number_of_finishers', 'athlete_id']]"
   ]
  },
  {
   "cell_type": "code",
   "execution_count": 445,
   "id": "a6b416e8-a55a-4d15-b03a-09de413bbadb",
   "metadata": {},
   "outputs": [],
   "source": [
    "#Get weather data for the races"
   ]
  },
  {
   "cell_type": "code",
   "execution_count": 446,
   "id": "c290d608-cdda-462a-82ed-3ebf6cad33be",
   "metadata": {},
   "outputs": [
    {
     "data": {
      "text/plain": [
       "<DatetimeArray>\n",
       "['2018-06-16 00:00:00', '2018-06-14 00:00:00', '2018-10-20 00:00:00',\n",
       " '2016-06-18 00:00:00', '2017-06-17 00:00:00', '2019-05-19 00:00:00',\n",
       " '2019-06-15 00:00:00', '2019-07-21 00:00:00', '2019-10-19 00:00:00',\n",
       " '2020-07-19 00:00:00', '2020-06-13 00:00:00', '2020-10-17 00:00:00',\n",
       " '2021-07-17 00:00:00', '2021-06-26 00:00:00', '2021-10-16 00:00:00',\n",
       " '2022-07-03 00:00:00', '2022-06-11 00:00:00', '2022-10-15 00:00:00',\n",
       " '2009-04-18 00:00:00', '2010-06-26 00:00:00', '2011-05-28 00:00:00',\n",
       " '2012-07-21 00:00:00', '2013-07-20 00:00:00']\n",
       "Length: 23, dtype: datetime64[ns]"
      ]
     },
     "execution_count": 446,
     "metadata": {},
     "output_type": "execute_result"
    }
   ],
   "source": [
    "#Get a list of race dates\n",
    "df['race_day'].unique()"
   ]
  },
  {
   "cell_type": "code",
   "execution_count": 447,
   "id": "ed4e0b7c-0b81-4ee7-a2c8-442c393ce4f4",
   "metadata": {},
   "outputs": [],
   "source": [
    "#Import weather data\n",
    "#https://www.visualcrossing.com/weather/weather-data-services"
   ]
  },
  {
   "cell_type": "code",
   "execution_count": 448,
   "id": "231950fa-f26f-4fd1-befc-2b3bab4c614e",
   "metadata": {},
   "outputs": [],
   "source": [
    "weather_df = pd.read_csv('weather_data.csv')"
   ]
  },
  {
   "cell_type": "code",
   "execution_count": null,
   "id": "235837c8-ea52-464c-90e9-bd42077b9d09",
   "metadata": {},
   "outputs": [],
   "source": [
    "#See the data that has been imported\n",
    "weather_df.info()"
   ]
  },
  {
   "cell_type": "code",
   "execution_count": 450,
   "id": "fa25573b-a8e8-41d7-a2c1-11298b24b59e",
   "metadata": {},
   "outputs": [
    {
     "data": {
      "text/html": [
       "<div>\n",
       "<style scoped>\n",
       "    .dataframe tbody tr th:only-of-type {\n",
       "        vertical-align: middle;\n",
       "    }\n",
       "\n",
       "    .dataframe tbody tr th {\n",
       "        vertical-align: top;\n",
       "    }\n",
       "\n",
       "    .dataframe thead th {\n",
       "        text-align: right;\n",
       "    }\n",
       "</style>\n",
       "<table border=\"1\" class=\"dataframe\">\n",
       "  <thead>\n",
       "    <tr style=\"text-align: right;\">\n",
       "      <th></th>\n",
       "      <th>datetime</th>\n",
       "      <th>tempmax</th>\n",
       "      <th>tempmin</th>\n",
       "      <th>temp</th>\n",
       "      <th>humidity</th>\n",
       "      <th>preciptype</th>\n",
       "      <th>windspeed</th>\n",
       "      <th>pressure</th>\n",
       "      <th>moonphase</th>\n",
       "      <th>icon</th>\n",
       "    </tr>\n",
       "  </thead>\n",
       "  <tbody>\n",
       "    <tr>\n",
       "      <th>0</th>\n",
       "      <td>2009-04-18</td>\n",
       "      <td>10.1</td>\n",
       "      <td>0.1</td>\n",
       "      <td>5.8</td>\n",
       "      <td>53.2</td>\n",
       "      <td>NaN</td>\n",
       "      <td>31.3</td>\n",
       "      <td>1009.6</td>\n",
       "      <td>0.78</td>\n",
       "      <td>partly-cloudy-day</td>\n",
       "    </tr>\n",
       "    <tr>\n",
       "      <th>1</th>\n",
       "      <td>2010-06-26</td>\n",
       "      <td>23.0</td>\n",
       "      <td>17.0</td>\n",
       "      <td>19.6</td>\n",
       "      <td>82.9</td>\n",
       "      <td>NaN</td>\n",
       "      <td>24.0</td>\n",
       "      <td>1010.6</td>\n",
       "      <td>0.50</td>\n",
       "      <td>partly-cloudy-day</td>\n",
       "    </tr>\n",
       "    <tr>\n",
       "      <th>2</th>\n",
       "      <td>2011-05-28</td>\n",
       "      <td>17.0</td>\n",
       "      <td>11.5</td>\n",
       "      <td>14.9</td>\n",
       "      <td>80.0</td>\n",
       "      <td>rain</td>\n",
       "      <td>19.3</td>\n",
       "      <td>1012.4</td>\n",
       "      <td>0.85</td>\n",
       "      <td>rain</td>\n",
       "    </tr>\n",
       "    <tr>\n",
       "      <th>3</th>\n",
       "      <td>2012-07-21</td>\n",
       "      <td>18.0</td>\n",
       "      <td>11.5</td>\n",
       "      <td>14.8</td>\n",
       "      <td>84.8</td>\n",
       "      <td>rain</td>\n",
       "      <td>19.6</td>\n",
       "      <td>1012.9</td>\n",
       "      <td>0.08</td>\n",
       "      <td>rain</td>\n",
       "    </tr>\n",
       "    <tr>\n",
       "      <th>4</th>\n",
       "      <td>2013-07-20</td>\n",
       "      <td>18.0</td>\n",
       "      <td>10.0</td>\n",
       "      <td>13.8</td>\n",
       "      <td>78.6</td>\n",
       "      <td>rain</td>\n",
       "      <td>22.3</td>\n",
       "      <td>1012.3</td>\n",
       "      <td>0.42</td>\n",
       "      <td>rain</td>\n",
       "    </tr>\n",
       "  </tbody>\n",
       "</table>\n",
       "</div>"
      ],
      "text/plain": [
       "     datetime  tempmax  tempmin  temp  humidity preciptype  windspeed  \\\n",
       "0  2009-04-18     10.1      0.1   5.8      53.2        NaN       31.3   \n",
       "1  2010-06-26     23.0     17.0  19.6      82.9        NaN       24.0   \n",
       "2  2011-05-28     17.0     11.5  14.9      80.0       rain       19.3   \n",
       "3  2012-07-21     18.0     11.5  14.8      84.8       rain       19.6   \n",
       "4  2013-07-20     18.0     10.0  13.8      78.6       rain       22.3   \n",
       "\n",
       "   pressure  moonphase               icon  \n",
       "0    1009.6       0.78  partly-cloudy-day  \n",
       "1    1010.6       0.50  partly-cloudy-day  \n",
       "2    1012.4       0.85               rain  \n",
       "3    1012.9       0.08               rain  \n",
       "4    1012.3       0.42               rain  "
      ]
     },
     "execution_count": 450,
     "metadata": {},
     "output_type": "execute_result"
    }
   ],
   "source": [
    "weather_df.head()"
   ]
  },
  {
   "cell_type": "code",
   "execution_count": 451,
   "id": "a243ec04-c8fc-46fc-bf95-305720a62b91",
   "metadata": {},
   "outputs": [],
   "source": [
    "#Convert data type to datetime\n",
    "weather_df['datetime'] = pd.to_datetime(weather_df['datetime'])"
   ]
  },
  {
   "cell_type": "code",
   "execution_count": 452,
   "id": "a6952f63-d04c-4472-b039-d9aa352448d1",
   "metadata": {},
   "outputs": [],
   "source": [
    "#Merge the DataFrames on 'race_day' and 'datetime'\n",
    "df2 = pd.merge(df, weather_df, left_on='race_day', right_on='datetime', how='inner')"
   ]
  },
  {
   "cell_type": "code",
   "execution_count": 453,
   "id": "ca4f70b5-a2a2-4b70-8ff7-e24cd58b5a01",
   "metadata": {},
   "outputs": [],
   "source": [
    "#Rename column 'icon'\n",
    "df2.rename(columns={'icon': 'weather_description'}, inplace=True)"
   ]
  },
  {
   "cell_type": "code",
   "execution_count": 454,
   "id": "716a66e9-e91c-4cef-bb53-680c833cefce",
   "metadata": {},
   "outputs": [
    {
     "data": {
      "text/plain": [
       "year                           0\n",
       "race_day                       0\n",
       "race_name                      0\n",
       "distance                       0\n",
       "athlete_performance            0\n",
       "athlete_country                0\n",
       "gender                         0\n",
       "average_speed                  0\n",
       "age                            0\n",
       "race_number_of_finishers       0\n",
       "athlete_id                     0\n",
       "datetime                       0\n",
       "tempmax                        0\n",
       "tempmin                        0\n",
       "temp                           0\n",
       "humidity                       0\n",
       "preciptype                  1011\n",
       "windspeed                      0\n",
       "pressure                       0\n",
       "moonphase                      0\n",
       "weather_description            0\n",
       "dtype: int64"
      ]
     },
     "execution_count": 454,
     "metadata": {},
     "output_type": "execute_result"
    }
   ],
   "source": [
    "#Check for null values\n",
    "df2.isnull().sum()"
   ]
  },
  {
   "cell_type": "code",
   "execution_count": 455,
   "id": "fd7f6961-a6db-41a6-879d-65aff6bb1931",
   "metadata": {},
   "outputs": [],
   "source": [
    "#Replace NaN values in the 'preciptype' column with 'no rain'\n",
    "df2['preciptype'].fillna('no rain', inplace=True)"
   ]
  },
  {
   "cell_type": "code",
   "execution_count": 456,
   "id": "19885373-5af4-4bdc-851e-ad71a3079c92",
   "metadata": {},
   "outputs": [],
   "source": [
    "#Drop columns\n",
    "df2.drop(columns=['tempmax', 'tempmin', 'pressure', 'moonphase'], inplace=True)"
   ]
  },
  {
   "cell_type": "code",
   "execution_count": null,
   "id": "c9ede2a5-51ff-4b09-aee0-a2c4b7f01a96",
   "metadata": {},
   "outputs": [
    {
     "name": "stderr",
     "output_type": "stream",
     "text": [
      "C:\\Users\\annas\\anaconda3\\Lib\\site-packages\\seaborn\\_oldcore.py:1119: FutureWarning: use_inf_as_na option is deprecated and will be removed in a future version. Convert inf values to NaN before operating instead.\n",
      "  with pd.option_context('mode.use_inf_as_na', True):\n",
      "C:\\Users\\annas\\anaconda3\\Lib\\site-packages\\seaborn\\_oldcore.py:1119: FutureWarning: use_inf_as_na option is deprecated and will be removed in a future version. Convert inf values to NaN before operating instead.\n",
      "  with pd.option_context('mode.use_inf_as_na', True):\n",
      "C:\\Users\\annas\\anaconda3\\Lib\\site-packages\\seaborn\\_oldcore.py:1119: FutureWarning: use_inf_as_na option is deprecated and will be removed in a future version. Convert inf values to NaN before operating instead.\n",
      "  with pd.option_context('mode.use_inf_as_na', True):\n",
      "C:\\Users\\annas\\anaconda3\\Lib\\site-packages\\seaborn\\_oldcore.py:1119: FutureWarning: use_inf_as_na option is deprecated and will be removed in a future version. Convert inf values to NaN before operating instead.\n",
      "  with pd.option_context('mode.use_inf_as_na', True):\n",
      "C:\\Users\\annas\\anaconda3\\Lib\\site-packages\\seaborn\\_oldcore.py:1119: FutureWarning: use_inf_as_na option is deprecated and will be removed in a future version. Convert inf values to NaN before operating instead.\n",
      "  with pd.option_context('mode.use_inf_as_na', True):\n",
      "C:\\Users\\annas\\anaconda3\\Lib\\site-packages\\seaborn\\_oldcore.py:1119: FutureWarning: use_inf_as_na option is deprecated and will be removed in a future version. Convert inf values to NaN before operating instead.\n",
      "  with pd.option_context('mode.use_inf_as_na', True):\n",
      "C:\\Users\\annas\\anaconda3\\Lib\\site-packages\\seaborn\\_oldcore.py:1119: FutureWarning: use_inf_as_na option is deprecated and will be removed in a future version. Convert inf values to NaN before operating instead.\n",
      "  with pd.option_context('mode.use_inf_as_na', True):\n",
      "C:\\Users\\annas\\anaconda3\\Lib\\site-packages\\seaborn\\_oldcore.py:1119: FutureWarning: use_inf_as_na option is deprecated and will be removed in a future version. Convert inf values to NaN before operating instead.\n",
      "  with pd.option_context('mode.use_inf_as_na', True):\n",
      "C:\\Users\\annas\\anaconda3\\Lib\\site-packages\\seaborn\\_oldcore.py:1119: FutureWarning: use_inf_as_na option is deprecated and will be removed in a future version. Convert inf values to NaN before operating instead.\n",
      "  with pd.option_context('mode.use_inf_as_na', True):\n"
     ]
    },
    {
     "data": {
      "text/plain": [
       "<seaborn.axisgrid.PairGrid at 0x1b9370a2510>"
      ]
     },
     "execution_count": 457,
     "metadata": {},
     "output_type": "execute_result"
    }
   ],
   "source": [
    "#Quickly visualise the data\n",
    "\n",
    "sns.pairplot(df2, kind='reg', plot_kws={'line_kws': {'color': 'red'}})"
   ]
  },
  {
   "cell_type": "code",
   "execution_count": null,
   "id": "ea949ab9-2d35-4442-8ac9-d2beab5da2d8",
   "metadata": {},
   "outputs": [],
   "source": [
    "#Quickly check for correlations\n",
    "\n",
    "#Select only numeric columns\n",
    "numeric_df = df2.select_dtypes(include='number')\n",
    "\n",
    "#Generate the correlation matrix\n",
    "correlation_matrix = numeric_df.corr()\n",
    "\n",
    "#Plot the heatmap\n",
    "plt.figure(figsize=(10, 8))\n",
    "sns.heatmap(correlation_matrix, annot=True, cmap='coolwarm', center=0)\n",
    "plt.title('Correlation Matrix')\n",
    "plt.show()"
   ]
  },
  {
   "cell_type": "code",
   "execution_count": null,
   "id": "e2f8bf2f-080b-474b-92ed-a9220032b8eb",
   "metadata": {},
   "outputs": [],
   "source": [
    "#Is long distance running more popular among men or women?\n",
    "sns.histplot(df2['gender'])"
   ]
  },
  {
   "cell_type": "code",
   "execution_count": null,
   "id": "c9428fda-4e1d-4e14-a9b4-cd39c61dac48",
   "metadata": {},
   "outputs": [],
   "source": [
    "#What is age distribution?\n",
    "sns.histplot(df2['age'], kde='True', bins = 45)"
   ]
  },
  {
   "cell_type": "code",
   "execution_count": null,
   "id": "fa1b632c-129c-4ffd-a2ab-bd834f0bbfb5",
   "metadata": {},
   "outputs": [],
   "source": [
    "#How old is the oldest runner?\n",
    "df2['age'].max()"
   ]
  },
  {
   "cell_type": "code",
   "execution_count": null,
   "id": "24d20ff5-63d3-4633-b791-aae530e1c67d",
   "metadata": {},
   "outputs": [],
   "source": [
    "#How old is the youngest runner?\n",
    "df2['age'].min()"
   ]
  },
  {
   "cell_type": "code",
   "execution_count": null,
   "id": "541532a7-e3c8-4090-9124-7ddf83f93990",
   "metadata": {},
   "outputs": [],
   "source": [
    "#How old is the oldest female runner?\n",
    "df2[df2['gender'] == 'F']['age'].max()"
   ]
  },
  {
   "cell_type": "code",
   "execution_count": null,
   "id": "86825b39-00dd-4d40-ba0e-f45de5f93c4f",
   "metadata": {},
   "outputs": [],
   "source": [
    "#What is median runner age?\n",
    "df2['age'].median()"
   ]
  },
  {
   "cell_type": "code",
   "execution_count": null,
   "id": "7aafc771-e77c-4372-97b1-8dd26e128ea2",
   "metadata": {},
   "outputs": [],
   "source": [
    "#Does average runner speed change with age?\n",
    "\n",
    "#Define age bins and labels\n",
    "age_bins = [10, 20, 30, 40, 50, 60, 70, 80]\n",
    "age_labels = ['10-20', '20-30', '30-40', '40-50', '50-60', '60-70', '70-80']\n",
    "\n",
    "#Create a new column 'age_group' with age categories\n",
    "df2['age_group'] = pd.cut(df2['age'], bins=age_bins, labels=age_labels, right=False)\n",
    "\n",
    "#Group by 'age_group' and 'gender', and calculate the median average speed\n",
    "median_speed_per_age_group_gender = df2.groupby(['age_group', 'gender'])['average_speed'].median().reset_index()\n",
    "\n",
    "#Create the line plot\n",
    "plt.figure(figsize=(12, 8))\n",
    "sns.lineplot(data=median_speed_per_age_group_gender, x='age_group', y='average_speed', hue='gender', marker='o', palette='viridis')\n",
    "\n",
    "#Customize the plot\n",
    "plt.title('Median Average Speed by Age Group and Gender')\n",
    "plt.xlabel('Age Group')\n",
    "plt.ylabel('Median Average Speed')\n",
    "plt.legend(title='Gender')\n",
    "plt.grid(True)\n",
    "\n",
    "#Show the plot\n",
    "plt.show()"
   ]
  },
  {
   "cell_type": "code",
   "execution_count": null,
   "id": "a439ca50-4731-4492-bbb5-ef95b39b2deb",
   "metadata": {},
   "outputs": [],
   "source": [
    "#Difference in speed for different distances male to female\n",
    "df2.groupby(['distance', 'gender'])['average_speed'].mean()"
   ]
  },
  {
   "cell_type": "code",
   "execution_count": null,
   "id": "a070cb71-0ecd-432d-a934-3c603d35203b",
   "metadata": {},
   "outputs": [],
   "source": [
    "#Average speed for different distances male to female visualisation\n",
    "\n",
    "#Calculate the average speed by distance and gender\n",
    "avg_speed_df = df2.groupby(['distance', 'gender'])['average_speed'].mean().reset_index()\n",
    "\n",
    "# Define custom color palette\n",
    "custom_palette = {'M': 'blue', 'F': 'pink'}\n",
    "\n",
    "#Create the bar plot\n",
    "plt.figure(figsize=(10, 6))\n",
    "sns.barplot(data=avg_speed_df, x='distance', y='average_speed', hue='gender', palette=custom_palette)\n",
    "\n",
    "#Customize the plot\n",
    "plt.title('Average Speed by Distance and Gender')\n",
    "plt.xlabel('Distance (km)')\n",
    "plt.ylabel('Average Speed')\n",
    "plt.legend(title='Gender')\n",
    "plt.grid(True)\n",
    "\n",
    "#Show the plot\n",
    "plt.show()"
   ]
  },
  {
   "cell_type": "code",
   "execution_count": null,
   "id": "eee93e32-f278-4d1d-8135-e5765133e803",
   "metadata": {},
   "outputs": [],
   "source": [
    "#Violinplot for average speed for different distances male to female\n",
    "sns.violinplot(data = df, x = 'distance', y = 'average_speed', hue = 'gender', split = True, inner = 'quart')"
   ]
  },
  {
   "cell_type": "code",
   "execution_count": null,
   "id": "497b791f-f6cb-45c4-8159-7e7699b17372",
   "metadata": {},
   "outputs": [],
   "source": [
    "#Does long-distance running become more popular?\n",
    "\n",
    "#Create the plot\n",
    "plt.figure(figsize=(12, 6))\n",
    "sns.lineplot(data=df2, x='year', y='race_number_of_finishers', marker='o', color='blue')\n",
    "\n",
    "#Customize the plot\n",
    "plt.title('Number of Finishers per Year')\n",
    "plt.xlabel('Year')\n",
    "plt.ylabel('Number of Finishers')\n",
    "plt.grid(True)\n",
    "\n",
    "#Show the plot\n",
    "plt.show()"
   ]
  },
  {
   "cell_type": "code",
   "execution_count": null,
   "id": "2330c3c8-3802-4410-8946-f69337d5d5ed",
   "metadata": {},
   "outputs": [],
   "source": [
    "#Is there a correlation between age group and race distance?\n",
    "\n",
    "#Create a scatter plot with a regression line\n",
    "plt.figure(figsize=(10, 6))\n",
    "sns.regplot(data=df2, x='age', y='distance', scatter_kws={'s': 50}, line_kws={'color': 'red'})\n",
    "\n",
    "#Customize the plot\n",
    "plt.title('Correlation between Age and Race Distance')\n",
    "plt.xlabel('Age')\n",
    "plt.ylabel('Race Distance (km)')\n",
    "plt.grid(True)\n",
    "\n",
    "#Show the plot\n",
    "plt.show()"
   ]
  },
  {
   "cell_type": "code",
   "execution_count": null,
   "id": "ffbf2be9-c7fa-47c2-9c16-5f063b68a2c9",
   "metadata": {},
   "outputs": [],
   "source": [
    "#Does temperature or humidity affect the average speed of racers?\n",
    "\n",
    "#Set up the plotting area\n",
    "fig, axes = plt.subplots(1, 2, figsize=(14, 6))\n",
    "\n",
    "#Scatter plot for temperature vs. average speed\n",
    "sns.regplot(data=df2, x='temp', y='average_speed', scatter_kws={'s': 50}, line_kws={'color': 'red'}, ax=axes[0])\n",
    "axes[0].set_title('Average Speed vs. Temperature')\n",
    "axes[0].set_xlabel('Temperature (°C)')\n",
    "axes[0].set_ylabel('Average Speed (km/h)')\n",
    "axes[0].grid(True)\n",
    "\n",
    "#Scatter plot for humidity vs. average speed\n",
    "sns.regplot(data=df2, x='humidity', y='average_speed', scatter_kws={'s': 50}, line_kws={'color': 'blue'}, ax=axes[1])\n",
    "axes[1].set_title('Average Speed vs. Humidity')\n",
    "axes[1].set_xlabel('Humidity (%)')\n",
    "axes[1].set_ylabel('Average Speed (km/h)')\n",
    "axes[1].grid(True)\n",
    "\n",
    "#Adjust layout\n",
    "plt.tight_layout()\n",
    "plt.show()"
   ]
  },
  {
   "cell_type": "code",
   "execution_count": null,
   "id": "7a1b39a1-0f17-4a81-8713-608359be37ff",
   "metadata": {},
   "outputs": [],
   "source": [
    "#Does average speed decline with age?\n",
    "\n",
    "sns.lmplot(data = df, x = 'age', y = 'average_speed', hue = 'gender', scatter_kws={'s': 10} )"
   ]
  },
  {
   "cell_type": "code",
   "execution_count": null,
   "id": "2924e406-d3a1-46e9-946d-af1777ad28d7",
   "metadata": {},
   "outputs": [],
   "source": [
    "#Does percipitation affect the male vs female ration of racers?\n",
    "\n",
    "# Aggregate the data\n",
    "gender_distribution = df2.groupby(['preciptype', 'gender']).size().unstack(fill_value=0)\n",
    "\n",
    "# Calculate male-to-female ratio\n",
    "gender_distribution['ratio'] = gender_distribution['M'] / gender_distribution['F']\n",
    "print(gender_distribution)"
   ]
  },
  {
   "cell_type": "code",
   "execution_count": null,
   "id": "170bbb85-ba22-4231-bd46-939c85d0d143",
   "metadata": {},
   "outputs": [],
   "source": [
    "#Does percipitation affect the male vs female ration of racers? visualisation\n",
    "\n",
    "#Aggregate the data\n",
    "gender_distribution = df2.groupby(['preciptype', 'gender']).size().reset_index(name='count')\n",
    "\n",
    "#Create a bar plot\n",
    "plt.figure(figsize=(10, 6))\n",
    "sns.barplot(data=gender_distribution, x='preciptype', y='count', hue='gender', palette='viridis')\n",
    "\n",
    "#Customize the plot\n",
    "plt.title('Gender Distribution by Precipitation Type')\n",
    "plt.xlabel('Precipitation Type')\n",
    "plt.ylabel('Number of Racers')\n",
    "plt.legend(title='Gender')\n",
    "plt.grid(True)\n",
    "\n",
    "#Show the plot\n",
    "plt.show()"
   ]
  }
 ],
 "metadata": {
  "kernelspec": {
   "display_name": "Python 3 (ipykernel)",
   "language": "python",
   "name": "python3"
  },
  "language_info": {
   "codemirror_mode": {
    "name": "ipython",
    "version": 3
   },
   "file_extension": ".py",
   "mimetype": "text/x-python",
   "name": "python",
   "nbconvert_exporter": "python",
   "pygments_lexer": "ipython3",
   "version": "3.11.7"
  }
 },
 "nbformat": 4,
 "nbformat_minor": 5
}
